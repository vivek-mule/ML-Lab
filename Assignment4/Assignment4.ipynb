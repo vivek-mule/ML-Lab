{
 "cells": [
  {
   "cell_type": "code",
   "execution_count": 1,
   "id": "6c64a952-917c-4954-876b-3bd9ca3fbaec",
   "metadata": {},
   "outputs": [],
   "source": [
    "# Apply appropriate ML algorithm on a dataset collected in a cosmetics shop showing details of  customers to predict customer response for special offer.  \n",
    "# Create confusion matrix based on above data and find \n",
    "# a) Accuracy \n",
    "# b) Precision \n",
    "# c) Recall \n",
    "# d) F-1 score "
   ]
  },
  {
   "cell_type": "code",
   "execution_count": 2,
   "id": "5f31a93c-1495-492c-a9a5-8313b412adad",
   "metadata": {},
   "outputs": [],
   "source": [
    "# Importing Libraries\n",
    "\n",
    "import pandas as pd"
   ]
  },
  {
   "cell_type": "code",
   "execution_count": 9,
   "id": "bc7bb391-a73f-4c95-bbc1-ed36dceb0b76",
   "metadata": {},
   "outputs": [],
   "source": [
    "ds = pd.read_excel('sales_data.xlsx')"
   ]
  },
  {
   "cell_type": "code",
   "execution_count": 11,
   "id": "615ca444-ef96-48f7-a346-7cff54abb95d",
   "metadata": {},
   "outputs": [
    {
     "data": {
      "text/html": [
       "<div>\n",
       "<style scoped>\n",
       "    .dataframe tbody tr th:only-of-type {\n",
       "        vertical-align: middle;\n",
       "    }\n",
       "\n",
       "    .dataframe tbody tr th {\n",
       "        vertical-align: top;\n",
       "    }\n",
       "\n",
       "    .dataframe thead th {\n",
       "        text-align: right;\n",
       "    }\n",
       "</style>\n",
       "<table border=\"1\" class=\"dataframe\">\n",
       "  <thead>\n",
       "    <tr style=\"text-align: right;\">\n",
       "      <th></th>\n",
       "      <th>invoice_no</th>\n",
       "      <th>customer_id</th>\n",
       "      <th>category</th>\n",
       "      <th>quantity</th>\n",
       "      <th>invoice date</th>\n",
       "      <th>price</th>\n",
       "      <th>shopping_mall</th>\n",
       "    </tr>\n",
       "  </thead>\n",
       "  <tbody>\n",
       "    <tr>\n",
       "      <th>0</th>\n",
       "      <td>I138884</td>\n",
       "      <td>C241288</td>\n",
       "      <td>Clothing</td>\n",
       "      <td>5</td>\n",
       "      <td>05/08/2022</td>\n",
       "      <td>1500.40</td>\n",
       "      <td>South Coast Plaza</td>\n",
       "    </tr>\n",
       "    <tr>\n",
       "      <th>1</th>\n",
       "      <td>I317333</td>\n",
       "      <td>C111565</td>\n",
       "      <td>Shoes</td>\n",
       "      <td>3</td>\n",
       "      <td>12/12/2021</td>\n",
       "      <td>1800.51</td>\n",
       "      <td>Beverly Center</td>\n",
       "    </tr>\n",
       "    <tr>\n",
       "      <th>2</th>\n",
       "      <td>I127801</td>\n",
       "      <td>C266599</td>\n",
       "      <td>Clothing</td>\n",
       "      <td>1</td>\n",
       "      <td>09/11/2021</td>\n",
       "      <td>300.08</td>\n",
       "      <td>Westfield Century City</td>\n",
       "    </tr>\n",
       "    <tr>\n",
       "      <th>3</th>\n",
       "      <td>I173702</td>\n",
       "      <td>C988172</td>\n",
       "      <td>Shoes</td>\n",
       "      <td>5</td>\n",
       "      <td>05/16/2021</td>\n",
       "      <td>3000.85</td>\n",
       "      <td>Stanford Shopping Center</td>\n",
       "    </tr>\n",
       "    <tr>\n",
       "      <th>4</th>\n",
       "      <td>I337046</td>\n",
       "      <td>C189076</td>\n",
       "      <td>Books</td>\n",
       "      <td>4</td>\n",
       "      <td>10/24/2021</td>\n",
       "      <td>60.60</td>\n",
       "      <td>South Coast Plaza</td>\n",
       "    </tr>\n",
       "  </tbody>\n",
       "</table>\n",
       "</div>"
      ],
      "text/plain": [
       "  invoice_no customer_id  category  quantity invoice date    price  \\\n",
       "0    I138884     C241288  Clothing         5   05/08/2022  1500.40   \n",
       "1    I317333     C111565     Shoes         3   12/12/2021  1800.51   \n",
       "2    I127801     C266599  Clothing         1   09/11/2021   300.08   \n",
       "3    I173702     C988172     Shoes         5   05/16/2021  3000.85   \n",
       "4    I337046     C189076     Books         4   10/24/2021    60.60   \n",
       "\n",
       "              shopping_mall  \n",
       "0         South Coast Plaza  \n",
       "1            Beverly Center  \n",
       "2    Westfield Century City  \n",
       "3  Stanford Shopping Center  \n",
       "4         South Coast Plaza  "
      ]
     },
     "execution_count": 11,
     "metadata": {},
     "output_type": "execute_result"
    }
   ],
   "source": [
    "ds.head()"
   ]
  },
  {
   "cell_type": "code",
   "execution_count": null,
   "id": "db9b0c5c-582a-4f05-ad0c-5e478352bbf2",
   "metadata": {},
   "outputs": [],
   "source": []
  }
 ],
 "metadata": {
  "kernelspec": {
   "display_name": "Python 3 (ipykernel)",
   "language": "python",
   "name": "python3"
  },
  "language_info": {
   "codemirror_mode": {
    "name": "ipython",
    "version": 3
   },
   "file_extension": ".py",
   "mimetype": "text/x-python",
   "name": "python",
   "nbconvert_exporter": "python",
   "pygments_lexer": "ipython3",
   "version": "3.12.7"
  }
 },
 "nbformat": 4,
 "nbformat_minor": 5
}
